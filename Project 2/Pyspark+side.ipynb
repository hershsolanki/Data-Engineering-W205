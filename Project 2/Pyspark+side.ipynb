{
 "cells": [
  {
   "cell_type": "code",
   "execution_count": 1,
   "metadata": {
    "collapsed": true
   },
   "outputs": [],
   "source": [
    "# Read data from Kafka, where we have exposed 29092. Note that we are looking for \n",
    "# the \"assessments\" topic we created earlier. Load all this into raw_assessments\n",
    "raw_assessments = spark \\\n",
    "  .read \\\n",
    "  .format(\"kafka\") \\\n",
    "  .option(\"kafka.bootstrap.servers\", \"kafka:29092\") \\\n",
    "  .option(\"subscribe\",\"assessments\") \\\n",
    "  .option(\"startingOffsets\", \"earliest\") \\\n",
    "  .option(\"endingOffsets\", \"latest\") \\\n",
    "  .load()"
   ]
  },
  {
   "cell_type": "code",
   "execution_count": 2,
   "metadata": {},
   "outputs": [
    {
     "data": {
      "text/plain": [
       "DataFrame[key: binary, value: binary, topic: string, partition: int, offset: bigint, timestamp: timestamp, timestampType: int]"
      ]
     },
     "execution_count": 2,
     "metadata": {},
     "output_type": "execute_result"
    }
   ],
   "source": [
    "# Cache to reduce cost of data\n",
    "raw_assessments.cache()"
   ]
  },
  {
   "cell_type": "code",
   "execution_count": 3,
   "metadata": {},
   "outputs": [
    {
     "name": "stdout",
     "output_type": "stream",
     "text": [
      "root\n",
      " |-- key: binary (nullable = true)\n",
      " |-- value: binary (nullable = true)\n",
      " |-- topic: string (nullable = true)\n",
      " |-- partition: integer (nullable = true)\n",
      " |-- offset: long (nullable = true)\n",
      " |-- timestamp: timestamp (nullable = true)\n",
      " |-- timestampType: integer (nullable = true)\n",
      "\n"
     ]
    }
   ],
   "source": [
    "# See the schema of the data\n",
    "raw_assessments.printSchema()"
   ]
  },
  {
   "cell_type": "code",
   "execution_count": 4,
   "metadata": {
    "collapsed": true
   },
   "outputs": [],
   "source": [
    "# Cast the data as strings\n",
    "assessments = raw_assessments.select(raw_assessments.value.cast('string'))"
   ]
  },
  {
   "cell_type": "code",
   "execution_count": 57,
   "metadata": {},
   "outputs": [],
   "source": [
    "import json\n",
    "\n",
    "# Run Lamba Function to Map X to its value\n",
    "assessmentsMap = assessments.rdd.map(lambda x: x.value)\n",
    "\n",
    "## Read in the JSON\n",
    "extracted_assessments = spark.read.json(assessmentsMap)\n",
    "\n",
    "# We don't want duplicate assingments, so drop all the ones where Keen ID is the same\n",
    "extracted_assessments = extracted_assessments.dropDuplicates(['keen_id'])\n",
    "\n",
    "# Create an in-memory table we can work with\n",
    "extracted_assessments.registerTempTable('extracted_assessments')"
   ]
  },
  {
   "cell_type": "code",
   "execution_count": 58,
   "metadata": {},
   "outputs": [
    {
     "name": "stdout",
     "output_type": "stream",
     "text": [
      "root\n",
      " |-- base_exam_id: string (nullable = true)\n",
      " |-- certification: string (nullable = true)\n",
      " |-- exam_name: string (nullable = true)\n",
      " |-- keen_created_at: string (nullable = true)\n",
      " |-- keen_id: string (nullable = true)\n",
      " |-- keen_timestamp: string (nullable = true)\n",
      " |-- max_attempts: string (nullable = true)\n",
      " |-- sequences: struct (nullable = true)\n",
      " |    |-- attempt: long (nullable = true)\n",
      " |    |-- counts: struct (nullable = true)\n",
      " |    |    |-- all_correct: boolean (nullable = true)\n",
      " |    |    |-- correct: long (nullable = true)\n",
      " |    |    |-- incomplete: long (nullable = true)\n",
      " |    |    |-- incorrect: long (nullable = true)\n",
      " |    |    |-- submitted: long (nullable = true)\n",
      " |    |    |-- total: long (nullable = true)\n",
      " |    |    |-- unanswered: long (nullable = true)\n",
      " |    |-- id: string (nullable = true)\n",
      " |    |-- questions: array (nullable = true)\n",
      " |    |    |-- element: struct (containsNull = true)\n",
      " |    |    |    |-- id: string (nullable = true)\n",
      " |    |    |    |-- options: array (nullable = true)\n",
      " |    |    |    |    |-- element: struct (containsNull = true)\n",
      " |    |    |    |    |    |-- at: string (nullable = true)\n",
      " |    |    |    |    |    |-- checked: boolean (nullable = true)\n",
      " |    |    |    |    |    |-- correct: boolean (nullable = true)\n",
      " |    |    |    |    |    |-- id: string (nullable = true)\n",
      " |    |    |    |    |    |-- submitted: long (nullable = true)\n",
      " |    |    |    |-- user_correct: boolean (nullable = true)\n",
      " |    |    |    |-- user_incomplete: boolean (nullable = true)\n",
      " |    |    |    |-- user_result: string (nullable = true)\n",
      " |    |    |    |-- user_submitted: boolean (nullable = true)\n",
      " |-- started_at: string (nullable = true)\n",
      " |-- user_exam_id: string (nullable = true)\n",
      "\n"
     ]
    }
   ],
   "source": [
    "# See the true JSON Schema. Note, you can Access inner parts of the JSON such as All Correct \n",
    "# by saying sequences.counts.all_correct\n",
    "extracted_assessments.printSchema()"
   ]
  },
  {
   "cell_type": "markdown",
   "metadata": {},
   "source": [
    "## How many assesstments are in the dataset?"
   ]
  },
  {
   "cell_type": "code",
   "execution_count": 53,
   "metadata": {},
   "outputs": [
    {
     "name": "stdout",
     "output_type": "stream",
     "text": [
      "+--------+\n",
      "|count(1)|\n",
      "+--------+\n",
      "|    3242|\n",
      "+--------+\n",
      "\n"
     ]
    }
   ],
   "source": [
    "# Start to run SQL commands, just as we would from BigQuery. Note the name of the table is\n",
    "# extracted_assessment\n",
    "spark.sql(\"SELECT COUNT(*) FROM extracted_assessments\").show()"
   ]
  },
  {
   "cell_type": "markdown",
   "metadata": {},
   "source": [
    "## What's the name of your Kafka topic? How did you come up with that name?\n",
    "\n",
    "Assesments, because they seem to be tests on certain material with a grade. We can see this if we put the JSON in an online viewer."
   ]
  },
  {
   "cell_type": "markdown",
   "metadata": {},
   "source": [
    "## How many people took Learning Git?"
   ]
  },
  {
   "cell_type": "code",
   "execution_count": 54,
   "metadata": {},
   "outputs": [
    {
     "name": "stdout",
     "output_type": "stream",
     "text": [
      "+--------+\n",
      "|count(1)|\n",
      "+--------+\n",
      "|     390|\n",
      "+--------+\n",
      "\n"
     ]
    }
   ],
   "source": [
    "# Simple SQL statement with a where clause\n",
    "spark.sql(\"SELECT COUNT(*) FROM extracted_assessments where exam_name='Learning Git'\").show()"
   ]
  },
  {
   "cell_type": "markdown",
   "metadata": {},
   "source": [
    "## What are the average grades for each course?"
   ]
  },
  {
   "cell_type": "code",
   "execution_count": 59,
   "metadata": {},
   "outputs": [
    {
     "name": "stdout",
     "output_type": "stream",
     "text": [
      "+--------------------+-------------------+\n",
      "|           exam_name|    avg(Percentage)|\n",
      "+--------------------+-------------------+\n",
      "|Learning Data Mod...|                0.5|\n",
      "|Networking for Pe...| 0.5555555555555555|\n",
      "|Introduction to J...| 0.8759493670886073|\n",
      "|Learning Apache H...|           0.765625|\n",
      "|Learning Spring P...|              0.625|\n",
      "|Learning iPython ...|                0.5|\n",
      "|Introduction to P...| 0.5666666666666664|\n",
      "|Learning C# Best ...|0.46206896551724147|\n",
      "|Introduction to A...| 0.5476190476190476|\n",
      "|A Practical Intro...| 0.5833333333333334|\n",
      "|I'm a Software Ar...| 0.5333333333333333|\n",
      "|Introduction to B...| 0.6061643835616438|\n",
      "|       View Updating|               0.25|\n",
      "|Mastering Python ...|               0.74|\n",
      "|Intermediate C# P...| 0.5512820512820513|\n",
      "|Starting a Grails...|               0.75|\n",
      "|Introduction to A...| 0.8333333333333334|\n",
      "|JavaScript Templa...| 0.6785714285714286|\n",
      "|Being a Better In...|                0.5|\n",
      "|Learning Apache M...|           0.609375|\n",
      "|Data Visualizatio...|0.49193548387096775|\n",
      "|Mastering Advance...| 0.3602941176470588|\n",
      "|Modeling for Soft...|               0.65|\n",
      "|        Learning DNS|  0.631578947368421|\n",
      "|Event-Driven Micr...|               0.66|\n",
      "|An Introduction t...|                0.6|\n",
      "|Refactor a Monoli...| 0.7647058823529411|\n",
      "|Learning to Visua...|                1.0|\n",
      "|        Learning Git| 0.6738461538461538|\n",
      "|Introduction to H...|               0.75|\n",
      "|Understanding the...| 0.7857142857142857|\n",
      "|Learning Linux Sy...| 0.5550847457627118|\n",
      "|Service Based Arc...| 0.6666666666666666|\n",
      "|Python Data Struc...| 0.5431034482758621|\n",
      "|Amazon Web Servic...|                0.5|\n",
      "|Introduction to A...| 0.7692307692307693|\n",
      "|         Offline Web|0.43589743589743585|\n",
      "|Learning C# Desig...| 0.6842105263157895|\n",
      "|Arduino Prototypi...| 0.3333333333333333|\n",
      "|Amazon Web Servic...| 0.7272727272727273|\n",
      "|Example Exam For ...|               null|\n",
      "|           Nullology|              0.375|\n",
      "|Building Web Serv...| 0.4166666666666667|\n",
      "|Cloud Native Arch...| 0.8000000000000003|\n",
      "|Introduction to A...| 0.5714285714285714|\n",
      "|      Arduino Inputs| 0.6458333333333334|\n",
      "|Introduction to M...| 0.6869747899159664|\n",
      "|Learning Linux Se...| 0.6203703703703703|\n",
      "|Arduino Prototypi...| 0.6799999999999999|\n",
      "|  Learning Java EE 7| 0.4800000000000001|\n",
      "+--------------------+-------------------+\n",
      "only showing top 50 rows\n",
      "\n"
     ]
    }
   ],
   "source": [
    "# This is how you start accessing elements within the nested JSON structure\n",
    "# We first are getting average grade by taking correct/total, saving it as Percentage\n",
    "grades = spark.sql(\"select sequences.counts.correct/sequences.counts.total  as Percentage, exam_name from extracted_assessments\")\n",
    "\n",
    "# We then group by the exam type, and get the mean\n",
    "grades.groupBy('exam_name').mean().show(50)"
   ]
  },
  {
   "cell_type": "markdown",
   "metadata": {},
   "source": [
    "## What is the least common course taken? And the most common?\n"
   ]
  },
  {
   "cell_type": "code",
   "execution_count": 60,
   "metadata": {},
   "outputs": [
    {
     "name": "stdout",
     "output_type": "stream",
     "text": [
      "+--------------------+-----+\n",
      "|           exam_name|count|\n",
      "+--------------------+-----+\n",
      "|        Learning Git|  390|\n",
      "|Introduction to P...|  162|\n",
      "|Introduction to J...|  158|\n",
      "|Intermediate Pyth...|  156|\n",
      "|Learning to Progr...|  128|\n",
      "+--------------------+-----+\n",
      "only showing top 5 rows\n",
      "\n"
     ]
    }
   ],
   "source": [
    "from pyspark.sql.functions import desc, asc\n",
    "\n",
    "# Here, just take names of exams\n",
    "exam_names = spark.sql(\"select exam_name  from extracted_assessments\")\n",
    "\n",
    "# Again group by, but then sort them\n",
    "most_popular = exam_names.groupBy('exam_name').count().sort(desc('count'))\n",
    "least_popular = exam_names.groupBy('exam_name').count().sort(asc('count'))\n",
    "most_popular.show(5)\n"
   ]
  },
  {
   "cell_type": "code",
   "execution_count": 11,
   "metadata": {},
   "outputs": [
    {
     "name": "stdout",
     "output_type": "stream",
     "text": [
      "+--------------------+-----+\n",
      "|           exam_name|count|\n",
      "+--------------------+-----+\n",
      "|Native Web Apps f...|    1|\n",
      "|Learning to Visua...|    1|\n",
      "|Nulls, Three-valu...|    1|\n",
      "|Operating Red Hat...|    1|\n",
      "|Learning Spring P...|    2|\n",
      "+--------------------+-----+\n",
      "only showing top 5 rows\n",
      "\n"
     ]
    }
   ],
   "source": [
    "least_popular.show(5)"
   ]
  },
  {
   "cell_type": "markdown",
   "metadata": {},
   "source": [
    "We can see the most popular and least popular courses above, with Web Apps and Learning Git being lowest and highest respectively. As an education provider, one would know where to target their resources towards."
   ]
  },
  {
   "cell_type": "markdown",
   "metadata": {},
   "source": [
    "## Bonus Personal Question: For all the tests that were taken over 50 times, how many times was question 0 correct?"
   ]
  },
  {
   "cell_type": "code",
   "execution_count": 62,
   "metadata": {},
   "outputs": [
    {
     "name": "stdout",
     "output_type": "stream",
     "text": [
      "+---------------+--------------------+---------+------------------+\n",
      "|total_questions|           exam_name|q_correct|             score|\n",
      "+---------------+--------------------+---------+------------------+\n",
      "|            158|Introduction to J...|      138|0.8734177215189873|\n",
      "|             57|        Learning SQL|       45|0.7894736842105263|\n",
      "|             51|   Python Epiphanies|       40|0.7843137254901961|\n",
      "|             85|    Learning Eclipse|       64|0.7529411764705882|\n",
      "|             79|Beginning Program...|       58|0.7341772151898734|\n",
      "|             67|Advanced Machine ...|       49|0.7313432835820896|\n",
      "|            119|Introduction to M...|       83|0.6974789915966386|\n",
      "|            390|        Learning Git|      266|0.6820512820512821|\n",
      "|             58|JavaScript: The G...|       39|0.6724137931034483|\n",
      "|             80|Learning Apache M...|       52|              0.65|\n",
      "|             73|Introduction to B...|       45|0.6164383561643836|\n",
      "|             77|       Mastering Git|       46|0.5974025974025974|\n",
      "|            162|Introduction to P...|       96|0.5925925925925926|\n",
      "|             59|Learning Linux Sy...|       34| 0.576271186440678|\n",
      "|            128|Learning to Progr...|       71|         0.5546875|\n",
      "|             53|Practical Java Pr...|       29|0.5471698113207547|\n",
      "|            156|Intermediate Pyth...|       81|0.5192307692307693|\n",
      "|             83|Beginning C# Prog...|       43|0.5180722891566265|\n",
      "|             52|    HTML5 The Basics|       26|               0.5|\n",
      "|            109|Software Architec...|       54|0.4954128440366973|\n",
      "+---------------+--------------------+---------+------------------+\n",
      "\n"
     ]
    }
   ],
   "source": [
    "# We first see how many times question 0 was answered\n",
    "question = spark.sql(\"select count(sequences.questions.user_result[0]) as total_questions,exam_name from extracted_assessments group by exam_name\")\n",
    "\n",
    "# Next, see how many times question 0 was correct\n",
    "questionCorrect = spark.sql(\"select count(sequences.questions.user_result[0])as q_correct,exam_name from extracted_assessments where sequences.questions.user_result[0]='correct' group by exam_name\")\n",
    "\n",
    "# Joine the 2 DF on exam Name\n",
    "joined_df = question.join(questionCorrect, question['exam_name'] == questionCorrect[\"exam_name\"]).select(question[\"*\"], questionCorrect[\"q_correct\"])\n",
    "\n",
    "# Divide correct by total questions to get a percentage\n",
    "new_df = joined_df.withColumn(\"score\", joined_df['q_correct']/joined_df['total_questions'])\n",
    "\n",
    "# Pick the ones that only have been answered over 50 times\n",
    "new_df = new_df.filter(\"total_questions > 50\")\n",
    "\n",
    "# Sort by score\n",
    "new_df = new_df.orderBy(\"score\").sort(desc('score'))\n",
    "new_df.show()\n"
   ]
  },
  {
   "cell_type": "code",
   "execution_count": 17,
   "metadata": {},
   "outputs": [
    {
     "data": {
      "image/png": "[encoded data removed]",
      "text/plain": [
       "<matplotlib.figure.Figure at 0x7fe867513a20>"
      ]
     },
     "metadata": {},
     "output_type": "display_data"
    }
   ],
   "source": [
    "# Convert to Pandas DF\n",
    "pandas_df = new_df.toPandas()\n",
    "\n",
    "# Create Graph\n",
    "import matplotlib.pyplot as plt\n",
    "plt.scatter(pandas_df['score'], pandas_df['total_questions'])\n",
    "plt.title(\"Average Score Q0 v Amount of Questions\")\n",
    "plt.xlabel(\"Score Q0\")\n",
    "plt.ylabel(\"Total Q\")\n",
    "plt.show()\n"
   ]
  },
  {
   "cell_type": "markdown",
   "metadata": {
    "collapsed": true
   },
   "source": [
    "## Bonus Personal Question 2: How many Exams were all correct? How many by topic?\n"
   ]
  },
  {
   "cell_type": "code",
   "execution_count": 18,
   "metadata": {},
   "outputs": [
    {
     "data": {
      "text/plain": [
       "827"
      ]
     },
     "execution_count": 18,
     "metadata": {},
     "output_type": "execute_result"
    }
   ],
   "source": [
    "spark.sql(\"select sequences.counts.all_correct, exam_name  from extracted_assessments where sequences.counts.all_correct='true'\").count()\n",
    "#We see it was 827 total, but lets break this out"
   ]
  },
  {
   "cell_type": "code",
   "execution_count": 23,
   "metadata": {},
   "outputs": [],
   "source": [
    "## Find topic with most perfect scores\n",
    "all_true = spark.sql(\"select sequences.counts.all_correct, exam_name  from extracted_assessments where sequences.counts.all_correct='true'\").groupBy(\"exam_name\").count().sort(desc('count'))"
   ]
  },
  {
   "cell_type": "code",
   "execution_count": 34,
   "metadata": {},
   "outputs": [
    {
     "name": "stdout",
     "output_type": "stream",
     "text": [
      "+---------------+--------------------+-----+-------------------+\n",
      "|total_questions|           exam_name|count|              score|\n",
      "+---------------+--------------------+-----+-------------------+\n",
      "|              1|Nulls, Three-valu...|    1|                1.0|\n",
      "|              2|The Closed World ...|    2|                1.0|\n",
      "|              1|Learning to Visua...|    1|                1.0|\n",
      "|             11|Learning SQL for ...|   10| 0.9090909090909091|\n",
      "|             28|Git Fundamentals ...|   21|               0.75|\n",
      "|              8|Introduction to H...|    6|               0.75|\n",
      "|              6|Introduction to A...|    4| 0.6666666666666666|\n",
      "|            158|Introduction to J...|   94| 0.5949367088607594|\n",
      "|              7|Introduction to A...|    4| 0.5714285714285714|\n",
      "|             17|Refactor a Monoli...|    9| 0.5294117647058824|\n",
      "|              2|What's New in Jav...|    1|                0.5|\n",
      "|             12|Learning Apache C...|    6|                0.5|\n",
      "|              9|Introduction to A...|    4| 0.4444444444444444|\n",
      "|              5|An Introduction t...|    2|                0.4|\n",
      "|             10|Being a Better In...|    4|                0.4|\n",
      "|             25|Mastering Python ...|   10|                0.4|\n",
      "|              5|Starting a Grails...|    2|                0.4|\n",
      "|            119|Introduction to M...|   46| 0.3865546218487395|\n",
      "|             13|Introduction to A...|    5|0.38461538461538464|\n",
      "|              8|           Nullology|    3|              0.375|\n",
      "+---------------+--------------------+-----+-------------------+\n",
      "only showing top 20 rows\n",
      "\n"
     ]
    }
   ],
   "source": [
    "## Now lets find the percentage that are all correct\n",
    "joined_question2 = question.join(all_true, question['exam_name'] == questionCorrect[\"exam_name\"]).select(question[\"*\"], all_true[\"count\"])\n",
    "\n",
    "# Divide all correct by total exams\n",
    "new_df2 = joined_question2.withColumn(\"score\", joined_question2[\"count\"]/joined_question2[\"total_questions\"])\n",
    "\n",
    "# Order by Score\n",
    "new_df2 = new_df2.orderBy(\"score\").sort(desc(\"score\"))\n",
    "new_df2.show(20)\n"
   ]
  },
  {
   "cell_type": "code",
   "execution_count": 43,
   "metadata": {},
   "outputs": [
    {
     "data": {
      "image/png": "[encoded data removed]",
      "text/plain": [
       "<matplotlib.figure.Figure at 0x7fe866f8a7b8>"
      ]
     },
     "metadata": {},
     "output_type": "display_data"
    }
   ],
   "source": [
    "#Convert to DF\n",
    "pandas_df2 = new_df2.toPandas()\n",
    "\n",
    "# Graph it\n",
    "plt.scatter(pandas_df2['score'], pandas_df2['total_questions'])\n",
    "plt.title(\"Perfect Scores v Total Questions\")\n",
    "plt.xlabel(\"Perfect\")\n",
    "plt.ylabel(\"Total Questions\")\n",
    "plt.show()\n"
   ]
  },
  {
   "cell_type": "markdown",
   "metadata": {},
   "source": [
    "## Write to HDFS\n",
    "\n",
    "This allows the data to be stored on the cloud"
   ]
  },
  {
   "cell_type": "code",
   "execution_count": 42,
   "metadata": {},
   "outputs": [],
   "source": [
    "new_df.write.parquet(\"/tmp/df\")\n",
    "new_df2.write.parquet(\"/tmp/df2\")\n",
    "## You can make sure this goes through in HDFS as well by doing docker-compose exec cloudera hadoop fs -ls /tmp/\n"
   ]
  }
 ],
 "metadata": {
  "kernelspec": {
   "display_name": "Python 3",
   "language": "python",
   "name": "python3"
  },
  "language_info": {
   "codemirror_mode": {
    "name": "ipython",
    "version": 3
   },
   "file_extension": ".py",
   "mimetype": "text/x-python",
   "name": "python",
   "nbconvert_exporter": "python",
   "pygments_lexer": "ipython3",
   "version": "3.6.1"
  }
 },
 "nbformat": 4,
 "nbformat_minor": 2
}
