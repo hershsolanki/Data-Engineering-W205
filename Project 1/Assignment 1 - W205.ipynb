{
 "cells": [
  {
   "cell_type": "code",
   "execution_count": 1,
   "metadata": {},
   "outputs": [],
   "source": [
    "import pandas as pd\n",
    "import numpy as np\n",
    "%matplotlib inline\n",
    "import seaborn as sns; sns.set()\n",
    "import matplotlib.pyplot as plt\n",
    "from matplotlib import *\n",
    "pd.set_option('display.max_colwidth', -1)"
   ]
  },
  {
   "cell_type": "markdown",
   "metadata": {},
   "source": [
    "# Understanding User Types"
   ]
  },
  {
   "cell_type": "markdown",
   "metadata": {},
   "source": [
    "It would be prudent to see the travel times on average based on different groups of riders. It is my hypothesis that subscribers are those who are commuters, while customers are those who are taking \"one time trips.\" To confirm this, lets take a a look at average ride times.\n",
    "\n"
   ]
  },
  {
   "cell_type": "code",
   "execution_count": 2,
   "metadata": {},
   "outputs": [
    {
     "name": "stdout",
     "output_type": "stream",
     "text": [
      "Waiting on bqjob_r5fe5946475bc12e8_0000016d983dfb39_1 ... (0s) Current status: DONE   \n",
      "+-------------------+\n",
      "|   trip_average    |\n",
      "+-------------------+\n",
      "| 9.714211319979718 |\n",
      "+-------------------+\n"
     ]
    }
   ],
   "source": [
    "# Average Subscriber Ride Time\n",
    "! bq query --use_legacy_sql=FALSE -n 16000 'SELECT AVG(DATETIME_DIFF(DATETIME(end_date), DATETIME(start_date), MINUTE)) as trip_average FROM `bigquery-public-data.san_francisco.bikeshare_trips` WHERE subscriber_type\t= \"Subscriber\"'\n",
    "\n",
    "# We can see things like: WHERE Time(start_date) BETWEEN \"16:00:00\" AND \"19:00:00\"\n",
    "# However, there is little no difference in the values\n"
   ]
  },
  {
   "cell_type": "code",
   "execution_count": 3,
   "metadata": {},
   "outputs": [
    {
     "name": "stdout",
     "output_type": "stream",
     "text": [
      "Waiting on bqjob_r2feea674a802c35_0000016d983e05b8_1 ... (0s) Current status: DONE   \n",
      "+-------------------+\n",
      "|   trip_average    |\n",
      "+-------------------+\n",
      "| 61.97679246248532 |\n",
      "+-------------------+\n"
     ]
    }
   ],
   "source": [
    "# Average Customer Ride Time\n",
    "! bq query --use_legacy_sql=FALSE -n 16000 'SELECT AVG(DATETIME_DIFF(DATETIME(end_date), DATETIME(start_date), MINUTE)) as trip_average FROM `bigquery-public-data.san_francisco.bikeshare_trips` WHERE subscriber_type\t= \"Customer\"'\n",
    "\n"
   ]
  },
  {
   "cell_type": "markdown",
   "metadata": {},
   "source": [
    "We see that the average trip of a subscriber is 9.7 minutes, while that of a customer is a 61.2 minutes. It is clear that we should be focusing on the subscribers."
   ]
  },
  {
   "cell_type": "markdown",
   "metadata": {},
   "source": [
    "# Understanding \"Commuter Times\""
   ]
  },
  {
   "cell_type": "markdown",
   "metadata": {},
   "source": [
    "I ran a query in BQ, but it was too long, and did not work in the Jupyter notebook. The query bins all the times in hour increments, and then gets a count to see what the rush hour commute time is. Thus, the query can be found in part 3 of the READ ME. The code will only be run on subscribers, as those are the ones with shorter trips, and more likely to be commuters."
   ]
  },
  {
   "cell_type": "code",
   "execution_count": 4,
   "metadata": {},
   "outputs": [
    {
     "data": {
      "text/html": [
       "<div>\n",
       "<style scoped>\n",
       "    .dataframe tbody tr th:only-of-type {\n",
       "        vertical-align: middle;\n",
       "    }\n",
       "\n",
       "    .dataframe tbody tr th {\n",
       "        vertical-align: top;\n",
       "    }\n",
       "\n",
       "    .dataframe thead th {\n",
       "        text-align: right;\n",
       "    }\n",
       "</style>\n",
       "<table border=\"1\" class=\"dataframe\">\n",
       "  <thead>\n",
       "    <tr style=\"text-align: right;\">\n",
       "      <th></th>\n",
       "      <th>Time</th>\n",
       "      <th>Total Trips</th>\n",
       "    </tr>\n",
       "  </thead>\n",
       "  <tbody>\n",
       "    <tr>\n",
       "      <th>0</th>\n",
       "      <td>00-01</td>\n",
       "      <td>2081</td>\n",
       "    </tr>\n",
       "    <tr>\n",
       "      <th>1</th>\n",
       "      <td>01-02</td>\n",
       "      <td>972</td>\n",
       "    </tr>\n",
       "    <tr>\n",
       "      <th>2</th>\n",
       "      <td>02-03</td>\n",
       "      <td>464</td>\n",
       "    </tr>\n",
       "    <tr>\n",
       "      <th>3</th>\n",
       "      <td>03-04</td>\n",
       "      <td>397</td>\n",
       "    </tr>\n",
       "    <tr>\n",
       "      <th>4</th>\n",
       "      <td>04-05</td>\n",
       "      <td>1238</td>\n",
       "    </tr>\n",
       "  </tbody>\n",
       "</table>\n",
       "</div>"
      ],
      "text/plain": [
       "    Time  Total Trips\n",
       "0  00-01  2081       \n",
       "1  01-02  972        \n",
       "2  02-03  464        \n",
       "3  03-04  397        \n",
       "4  04-05  1238       "
      ]
     },
     "execution_count": 4,
     "metadata": {},
     "output_type": "execute_result"
    }
   ],
   "source": [
    "commuter_times = pd.read_csv('commuter_times.csv')\n",
    "commuter_times.head()\n"
   ]
  },
  {
   "cell_type": "code",
   "execution_count": 5,
   "metadata": {},
   "outputs": [
    {
     "data": {
      "image/png": "[encoded data removed]",
      "text/plain": [
       "<Figure size 432x288 with 1 Axes>"
      ]
     },
     "metadata": {
      "needs_background": "light"
     },
     "output_type": "display_data"
    }
   ],
   "source": [
    "plt.bar(commuter_times[\"Time\"], commuter_times[\"Total Trips\"])\n",
    "bar = plt.xticks(rotation='vertical')\n"
   ]
  },
  {
   "cell_type": "markdown",
   "metadata": {},
   "source": [
    "It becomes abundantly clear that rush hour in the AM is between 7 and 10am, and between 4 - 7pm at night for start times. "
   ]
  },
  {
   "cell_type": "markdown",
   "metadata": {},
   "source": [
    "# Understanding the Most Popular Routes"
   ]
  },
  {
   "cell_type": "markdown",
   "metadata": {},
   "source": [
    "In order for me to find commuter trips, I make each trip name a unique identifier which is marked by the concatenation of the start and end station. I believe it makes sense most to look at routes: Which is a roundtrip between two stations. **I am moving under the assumption that if someone is a commuter, they must go from home to work, and then back home.**\n",
    "\n",
    "Two seperate queries are run -- one for morning and one for afternoon commuter trips."
   ]
  },
  {
   "cell_type": "code",
   "execution_count": 6,
   "metadata": {},
   "outputs": [
    {
     "name": "stdout",
     "output_type": "stream",
     "text": [
      "\r",
      "Waiting on bqjob_r194972d1eae980c5_0000016d983e0f06_1 ... (0s) Current status: DONE   "
     ]
    },
    {
     "data": {
      "text/html": [
       "<div>\n",
       "<style scoped>\n",
       "    .dataframe tbody tr th:only-of-type {\n",
       "        vertical-align: middle;\n",
       "    }\n",
       "\n",
       "    .dataframe tbody tr th {\n",
       "        vertical-align: top;\n",
       "    }\n",
       "\n",
       "    .dataframe thead th {\n",
       "        text-align: right;\n",
       "    }\n",
       "</style>\n",
       "<table border=\"1\" class=\"dataframe\">\n",
       "  <thead>\n",
       "    <tr style=\"text-align: right;\">\n",
       "      <th></th>\n",
       "      <th>trip_name</th>\n",
       "      <th>counts</th>\n",
       "      <th>AM_rank</th>\n",
       "    </tr>\n",
       "  </thead>\n",
       "  <tbody>\n",
       "    <tr>\n",
       "      <th>0</th>\n",
       "      <td>Harry Bridges Plaza (Ferry Building)2nd at Townsend</td>\n",
       "      <td>4556</td>\n",
       "      <td>1</td>\n",
       "    </tr>\n",
       "    <tr>\n",
       "      <th>1</th>\n",
       "      <td>Steuart at Market2nd at Townsend</td>\n",
       "      <td>3796</td>\n",
       "      <td>2</td>\n",
       "    </tr>\n",
       "    <tr>\n",
       "      <th>2</th>\n",
       "      <td>San Francisco Caltrain 2 (330 Townsend)Townsend at 7th</td>\n",
       "      <td>3548</td>\n",
       "      <td>3</td>\n",
       "    </tr>\n",
       "    <tr>\n",
       "      <th>3</th>\n",
       "      <td>San Francisco Caltrain (Townsend at 4th)Embarcadero at Folsom</td>\n",
       "      <td>3372</td>\n",
       "      <td>4</td>\n",
       "    </tr>\n",
       "    <tr>\n",
       "      <th>4</th>\n",
       "      <td>San Francisco Caltrain (Townsend at 4th)Temporary Transbay Terminal (Howard at Beale)</td>\n",
       "      <td>3137</td>\n",
       "      <td>5</td>\n",
       "    </tr>\n",
       "  </tbody>\n",
       "</table>\n",
       "</div>"
      ],
      "text/plain": [
       "                                                                               trip_name  \\\n",
       "0  Harry Bridges Plaza (Ferry Building)2nd at Townsend                                     \n",
       "1  Steuart at Market2nd at Townsend                                                        \n",
       "2  San Francisco Caltrain 2 (330 Townsend)Townsend at 7th                                  \n",
       "3  San Francisco Caltrain (Townsend at 4th)Embarcadero at Folsom                           \n",
       "4  San Francisco Caltrain (Townsend at 4th)Temporary Transbay Terminal (Howard at Beale)   \n",
       "\n",
       "   counts  AM_rank  \n",
       "0  4556    1        \n",
       "1  3796    2        \n",
       "2  3548    3        \n",
       "3  3372    4        \n",
       "4  3137    5        "
      ]
     },
     "execution_count": 6,
     "metadata": {},
     "output_type": "execute_result"
    }
   ],
   "source": [
    "# Query the 10 most popular trips with times for subscribers in AM\n",
    "! bq query --use_legacy_sql=FALSE --format=csv -n 16000 'SELECT DISTINCT(CONCAT(start_station_name, end_station_name)) as trip_name, COUNT(*) as counts FROM `bigquery-public-data.san_francisco.bikeshare_trips` WHERE Time(start_date) BETWEEN \"07:00:00\" AND \"10:00:00\" GROUP BY trip_name ORDER BY counts DESC' > popular_trips_AM.csv\n",
    "popular_trips_AM = pd.read_csv('popular_trips_AM.csv')\n",
    "popular_trips_AM['AM_rank'] = np.arange(len(popular_trips_AM)) + 1\n",
    "popular_trips_AM.head()\n"
   ]
  },
  {
   "cell_type": "code",
   "execution_count": 7,
   "metadata": {},
   "outputs": [
    {
     "name": "stdout",
     "output_type": "stream",
     "text": [
      "\r",
      "Waiting on bqjob_r6b124bee8a86b14f_0000016d983e166f_1 ... (0s) Current status: DONE   "
     ]
    },
    {
     "data": {
      "text/html": [
       "<div>\n",
       "<style scoped>\n",
       "    .dataframe tbody tr th:only-of-type {\n",
       "        vertical-align: middle;\n",
       "    }\n",
       "\n",
       "    .dataframe tbody tr th {\n",
       "        vertical-align: top;\n",
       "    }\n",
       "\n",
       "    .dataframe thead th {\n",
       "        text-align: right;\n",
       "    }\n",
       "</style>\n",
       "<table border=\"1\" class=\"dataframe\">\n",
       "  <thead>\n",
       "    <tr style=\"text-align: right;\">\n",
       "      <th></th>\n",
       "      <th>trip_name</th>\n",
       "      <th>counts</th>\n",
       "      <th>PM_rank</th>\n",
       "    </tr>\n",
       "  </thead>\n",
       "  <tbody>\n",
       "    <tr>\n",
       "      <th>0</th>\n",
       "      <td>Harry Bridges Plaza (Ferry Building)2nd at Townsend</td>\n",
       "      <td>4310</td>\n",
       "      <td>1</td>\n",
       "    </tr>\n",
       "    <tr>\n",
       "      <th>1</th>\n",
       "      <td>San Francisco Caltrain (Townsend at 4th)Embarcadero at Folsom</td>\n",
       "      <td>4067</td>\n",
       "      <td>2</td>\n",
       "    </tr>\n",
       "    <tr>\n",
       "      <th>2</th>\n",
       "      <td>Steuart at MarketEmbarcadero at Sansome</td>\n",
       "      <td>4031</td>\n",
       "      <td>3</td>\n",
       "    </tr>\n",
       "    <tr>\n",
       "      <th>3</th>\n",
       "      <td>San Francisco Caltrain (Townsend at 4th)Steuart at Market</td>\n",
       "      <td>3440</td>\n",
       "      <td>4</td>\n",
       "    </tr>\n",
       "    <tr>\n",
       "      <th>4</th>\n",
       "      <td>San Francisco Caltrain (Townsend at 4th)Temporary Transbay Terminal (Howard at Beale)</td>\n",
       "      <td>3338</td>\n",
       "      <td>5</td>\n",
       "    </tr>\n",
       "  </tbody>\n",
       "</table>\n",
       "</div>"
      ],
      "text/plain": [
       "                                                                               trip_name  \\\n",
       "0  Harry Bridges Plaza (Ferry Building)2nd at Townsend                                     \n",
       "1  San Francisco Caltrain (Townsend at 4th)Embarcadero at Folsom                           \n",
       "2  Steuart at MarketEmbarcadero at Sansome                                                 \n",
       "3  San Francisco Caltrain (Townsend at 4th)Steuart at Market                               \n",
       "4  San Francisco Caltrain (Townsend at 4th)Temporary Transbay Terminal (Howard at Beale)   \n",
       "\n",
       "   counts  PM_rank  \n",
       "0  4310    1        \n",
       "1  4067    2        \n",
       "2  4031    3        \n",
       "3  3440    4        \n",
       "4  3338    5        "
      ]
     },
     "execution_count": 7,
     "metadata": {},
     "output_type": "execute_result"
    }
   ],
   "source": [
    "# Query the 10 most popular trips with times for subscribers in PM\n",
    "# I switched up start and end station to compare the two tables\n",
    "! bq query --use_legacy_sql=FALSE --format=csv -n 16000 'SELECT DISTINCT(CONCAT(end_station_name, start_station_name)) as trip_name, COUNT(*) as counts FROM `bigquery-public-data.san_francisco.bikeshare_trips` WHERE Time(start_date) BETWEEN \"16:00:00\" AND \"19:00:00\" GROUP BY trip_name ORDER BY counts DESC' > popular_trips_PM.csv\n",
    "popular_trips_PM = pd.read_csv('popular_trips_PM.csv')\n",
    "popular_trips_PM['PM_rank'] = np.arange(len(popular_trips_PM)) + 1\n",
    "popular_trips_PM.head()\n"
   ]
  },
  {
   "cell_type": "code",
   "execution_count": 8,
   "metadata": {},
   "outputs": [
    {
     "data": {
      "text/html": [
       "<div>\n",
       "<style scoped>\n",
       "    .dataframe tbody tr th:only-of-type {\n",
       "        vertical-align: middle;\n",
       "    }\n",
       "\n",
       "    .dataframe tbody tr th {\n",
       "        vertical-align: top;\n",
       "    }\n",
       "\n",
       "    .dataframe thead th {\n",
       "        text-align: right;\n",
       "    }\n",
       "</style>\n",
       "<table border=\"1\" class=\"dataframe\">\n",
       "  <thead>\n",
       "    <tr style=\"text-align: right;\">\n",
       "      <th></th>\n",
       "      <th>trip_name</th>\n",
       "      <th>counts_x</th>\n",
       "      <th>AM_rank</th>\n",
       "      <th>counts_y</th>\n",
       "      <th>PM_rank</th>\n",
       "      <th>final_rank</th>\n",
       "      <th>sum_counts</th>\n",
       "    </tr>\n",
       "  </thead>\n",
       "  <tbody>\n",
       "    <tr>\n",
       "      <th>0</th>\n",
       "      <td>Harry Bridges Plaza (Ferry Building)2nd at Townsend</td>\n",
       "      <td>4556</td>\n",
       "      <td>1</td>\n",
       "      <td>4310.0</td>\n",
       "      <td>1.0</td>\n",
       "      <td>1.0</td>\n",
       "      <td>8866.0</td>\n",
       "    </tr>\n",
       "    <tr>\n",
       "      <th>3</th>\n",
       "      <td>San Francisco Caltrain (Townsend at 4th)Embarcadero at Folsom</td>\n",
       "      <td>3372</td>\n",
       "      <td>4</td>\n",
       "      <td>4067.0</td>\n",
       "      <td>2.0</td>\n",
       "      <td>3.0</td>\n",
       "      <td>7439.0</td>\n",
       "    </tr>\n",
       "    <tr>\n",
       "      <th>4</th>\n",
       "      <td>San Francisco Caltrain (Townsend at 4th)Temporary Transbay Terminal (Howard at Beale)</td>\n",
       "      <td>3137</td>\n",
       "      <td>5</td>\n",
       "      <td>3338.0</td>\n",
       "      <td>5.0</td>\n",
       "      <td>5.0</td>\n",
       "      <td>6475.0</td>\n",
       "    </tr>\n",
       "    <tr>\n",
       "      <th>2</th>\n",
       "      <td>San Francisco Caltrain 2 (330 Townsend)Townsend at 7th</td>\n",
       "      <td>3548</td>\n",
       "      <td>3</td>\n",
       "      <td>2911.0</td>\n",
       "      <td>8.0</td>\n",
       "      <td>5.5</td>\n",
       "      <td>6459.0</td>\n",
       "    </tr>\n",
       "    <tr>\n",
       "      <th>8</th>\n",
       "      <td>Steuart at MarketEmbarcadero at Sansome</td>\n",
       "      <td>2831</td>\n",
       "      <td>9</td>\n",
       "      <td>4031.0</td>\n",
       "      <td>3.0</td>\n",
       "      <td>6.0</td>\n",
       "      <td>6862.0</td>\n",
       "    </tr>\n",
       "  </tbody>\n",
       "</table>\n",
       "</div>"
      ],
      "text/plain": [
       "                                                                               trip_name  \\\n",
       "0  Harry Bridges Plaza (Ferry Building)2nd at Townsend                                     \n",
       "3  San Francisco Caltrain (Townsend at 4th)Embarcadero at Folsom                           \n",
       "4  San Francisco Caltrain (Townsend at 4th)Temporary Transbay Terminal (Howard at Beale)   \n",
       "2  San Francisco Caltrain 2 (330 Townsend)Townsend at 7th                                  \n",
       "8  Steuart at MarketEmbarcadero at Sansome                                                 \n",
       "\n",
       "   counts_x  AM_rank  counts_y  PM_rank  final_rank  sum_counts  \n",
       "0  4556      1        4310.0    1.0      1.0         8866.0      \n",
       "3  3372      4        4067.0    2.0      3.0         7439.0      \n",
       "4  3137      5        3338.0    5.0      5.0         6475.0      \n",
       "2  3548      3        2911.0    8.0      5.5         6459.0      \n",
       "8  2831      9        4031.0    3.0      6.0         6862.0      "
      ]
     },
     "execution_count": 8,
     "metadata": {},
     "output_type": "execute_result"
    }
   ],
   "source": [
    "# Merge both DF to get a rank\n",
    "total_rank = popular_trips_AM.merge(popular_trips_PM, on='trip_name', how='left')\n",
    "total_rank['final_rank'] = (total_rank[\"AM_rank\"] + total_rank[\"PM_rank\"])/2\n",
    "total_rank = total_rank.sort_values(by=[\"final_rank\"], ascending=True)\n",
    "total_rank['sum_counts'] = total_rank[\"counts_x\"] + total_rank[\"counts_y\"]\n",
    "total_rank.head()\n",
    "\n"
   ]
  },
  {
   "cell_type": "markdown",
   "metadata": {},
   "source": [
    "It is clear to see that the top 5 most popular trips are :\n",
    "\n",
    "**1. Harry Bridges Plaza (Ferry Building) - 2nd at Townsend**\t\n",
    "\n",
    "**2. San Francisco Caltrain (Townsend at 4th) - Embarcadero at Folsom**\n",
    "\n",
    "**3. San Francisco Caltrain (Townsend at 4th) - Temporary Transbay Terminal\n",
    "(Howard at Beale)**\n",
    "\n",
    "**4. San Francisco Caltrain 2 (330 Townsend) - Townsend at 7th**\n",
    "\n",
    "**5. Steuart at Market - Embarcadero at Sansom**\n",
    "\n",
    "As a sanity check, if you look at the sum_counts for these 5, they are the 5 highest."
   ]
  },
  {
   "cell_type": "markdown",
   "metadata": {},
   "source": [
    "# Reccomendation: Offer discounts are certain times"
   ]
  },
  {
   "cell_type": "code",
   "execution_count": 9,
   "metadata": {},
   "outputs": [
    {
     "data": {
      "text/html": [
       "<div>\n",
       "<style scoped>\n",
       "    .dataframe tbody tr th:only-of-type {\n",
       "        vertical-align: middle;\n",
       "    }\n",
       "\n",
       "    .dataframe tbody tr th {\n",
       "        vertical-align: top;\n",
       "    }\n",
       "\n",
       "    .dataframe thead th {\n",
       "        text-align: right;\n",
       "    }\n",
       "</style>\n",
       "<table border=\"1\" class=\"dataframe\">\n",
       "  <thead>\n",
       "    <tr style=\"text-align: right;\">\n",
       "      <th></th>\n",
       "      <th>Time</th>\n",
       "      <th>Total Trips</th>\n",
       "    </tr>\n",
       "  </thead>\n",
       "  <tbody>\n",
       "    <tr>\n",
       "      <th>0</th>\n",
       "      <td>00-01</td>\n",
       "      <td>848</td>\n",
       "    </tr>\n",
       "    <tr>\n",
       "      <th>1</th>\n",
       "      <td>01-02</td>\n",
       "      <td>639</td>\n",
       "    </tr>\n",
       "    <tr>\n",
       "      <th>2</th>\n",
       "      <td>02-03</td>\n",
       "      <td>413</td>\n",
       "    </tr>\n",
       "    <tr>\n",
       "      <th>3</th>\n",
       "      <td>03-04</td>\n",
       "      <td>208</td>\n",
       "    </tr>\n",
       "    <tr>\n",
       "      <th>4</th>\n",
       "      <td>04-05</td>\n",
       "      <td>160</td>\n",
       "    </tr>\n",
       "  </tbody>\n",
       "</table>\n",
       "</div>"
      ],
      "text/plain": [
       "    Time  Total Trips\n",
       "0  00-01  848        \n",
       "1  01-02  639        \n",
       "2  02-03  413        \n",
       "3  03-04  208        \n",
       "4  04-05  160        "
      ]
     },
     "execution_count": 9,
     "metadata": {},
     "output_type": "execute_result"
    }
   ],
   "source": [
    "# Got this data from a similar query to what I did above, but changed customer type from subscriber to customer\n",
    "# Query can be found in question #3 of part 2, where the only diff is that subscriber_type = \"Customer\n",
    "customer_times = pd.read_csv('customer_times.csv')\n",
    "customer_times.head()\n",
    "\n"
   ]
  },
  {
   "cell_type": "code",
   "execution_count": 10,
   "metadata": {},
   "outputs": [
    {
     "data": {
      "image/png": "[encoded data removed]",
      "text/plain": [
       "<Figure size 360x360 with 1 Axes>"
      ]
     },
     "metadata": {
      "needs_background": "light"
     },
     "output_type": "display_data"
    }
   ],
   "source": [
    "ax = customer_times.plot(kind='bar',x='Time',y='Total Trips', figsize=[5, 5])\n",
    "ax.set_xlabel(\"Time\",fontsize=12)\n",
    "ax.set_ylabel(\"Trips\",fontsize=12)\n",
    "plt.show()\n"
   ]
  },
  {
   "cell_type": "markdown",
   "metadata": {},
   "source": [
    "Note how unlike the subscribers which had a bimodal graph around rush hour, the customers ride the most around midday, between 12-5. **However, there is downtime before 8am and after 7pm. Thus, from 7pm - 8am, there should be discounted ride passes.** Much like Bird/Lime, Ford GoBike could offer a per minute usage cost which would be attractive to the user instead of paying a flat price. However, this would NOT be during the whole day. It should only be when ridership is on the low end. \n",
    "\n",
    "Let us see what happens when we combine the two graphs"
   ]
  },
  {
   "cell_type": "code",
   "execution_count": 11,
   "metadata": {},
   "outputs": [
    {
     "data": {
      "image/png": "[encoded data removed]",
      "text/plain": [
       "<Figure size 432x288 with 1 Axes>"
      ]
     },
     "metadata": {
      "needs_background": "light"
     },
     "output_type": "display_data"
    }
   ],
   "source": [
    "X = np.arange(len(customer_times[\"Time\"]))\n",
    "plt.bar(X  - .2, customer_times[\"Total Trips\"], .4, label = 'time')\n",
    "plt.bar(X  + .2, commuter_times[\"Total Trips\"], .4, label = 'time')\n",
    "plt.xticks(X, customer_times[\"Time\"], rotation='vertical')\n",
    "plt.legend(['Customer', 'Subscriber'])\n",
    "plt.show()\n"
   ]
  },
  {
   "cell_type": "markdown",
   "metadata": {},
   "source": [
    "Note how when we look at graphs indivdually, the scales seem similar. However when we combine, we can see that Subscribers engage in significantly more trips than Customers. **Thus, there could be an argument made to change the entire customer pricing from flat rate to variable pricing.** This would incentivize additional consumers to ride the bike without the fear of having only 30-minute or day options, which seem to be arbitrary."
   ]
  },
  {
   "cell_type": "markdown",
   "metadata": {},
   "source": [
    "#  Reccomendation: Offering discounts when going to lesser used stations"
   ]
  },
  {
   "cell_type": "code",
   "execution_count": 12,
   "metadata": {},
   "outputs": [
    {
     "name": "stdout",
     "output_type": "stream",
     "text": [
      "\r",
      "Waiting on bqjob_r5e3953fcaa17b37d_0000016d983e215a_1 ... (0s) Current status: DONE   "
     ]
    },
    {
     "data": {
      "text/html": [
       "<div>\n",
       "<style scoped>\n",
       "    .dataframe tbody tr th:only-of-type {\n",
       "        vertical-align: middle;\n",
       "    }\n",
       "\n",
       "    .dataframe tbody tr th {\n",
       "        vertical-align: top;\n",
       "    }\n",
       "\n",
       "    .dataframe thead th {\n",
       "        text-align: right;\n",
       "    }\n",
       "</style>\n",
       "<table border=\"1\" class=\"dataframe\">\n",
       "  <thead>\n",
       "    <tr style=\"text-align: right;\">\n",
       "      <th></th>\n",
       "      <th>station</th>\n",
       "      <th>dockcount</th>\n",
       "    </tr>\n",
       "  </thead>\n",
       "  <tbody>\n",
       "    <tr>\n",
       "      <th>0</th>\n",
       "      <td>Cyril Magnin St at Ellis St</td>\n",
       "      <td>35</td>\n",
       "    </tr>\n",
       "    <tr>\n",
       "      <th>1</th>\n",
       "      <td>5th St at Folsom St</td>\n",
       "      <td>31</td>\n",
       "    </tr>\n",
       "    <tr>\n",
       "      <th>2</th>\n",
       "      <td>San Jose Diridon Caltrain Station</td>\n",
       "      <td>27</td>\n",
       "    </tr>\n",
       "    <tr>\n",
       "      <th>3</th>\n",
       "      <td>2nd at Townsend</td>\n",
       "      <td>27</td>\n",
       "    </tr>\n",
       "    <tr>\n",
       "      <th>4</th>\n",
       "      <td>Market at 10th</td>\n",
       "      <td>27</td>\n",
       "    </tr>\n",
       "  </tbody>\n",
       "</table>\n",
       "</div>"
      ],
      "text/plain": [
       "                             station  dockcount\n",
       "0  Cyril Magnin St at Ellis St        35       \n",
       "1  5th St at Folsom St                31       \n",
       "2  San Jose Diridon Caltrain Station  27       \n",
       "3  2nd at Townsend                    27       \n",
       "4  Market at 10th                     27       "
      ]
     },
     "execution_count": 12,
     "metadata": {},
     "output_type": "execute_result"
    }
   ],
   "source": [
    "# How can we compare the least visited stations with the amount of docks they have\n",
    "# Query dock counts\n",
    "! bq query --use_legacy_sql=FALSE --format=csv -n 16000 'SELECT * FROM `bigquery-public-data.san_francisco.bikeshare_stations` ORDER BY dockcount DESC' > dock_counts.csv\n",
    "dock_counts = pd.read_csv('dock_counts.csv')\n",
    "dock_counts.rename(columns={'name':'station'}, inplace=True)\n",
    "station_names = dock_counts[['station', 'dockcount']]\n",
    "station_names.head()\n",
    "    "
   ]
  },
  {
   "cell_type": "code",
   "execution_count": 27,
   "metadata": {},
   "outputs": [
    {
     "name": "stdout",
     "output_type": "stream",
     "text": [
      "\r",
      "Waiting on bqjob_r4eacf815233e0a7a_0000016d984b5130_1 ... (0s) Current status: DONE   "
     ]
    },
    {
     "data": {
      "text/html": [
       "<div>\n",
       "<style scoped>\n",
       "    .dataframe tbody tr th:only-of-type {\n",
       "        vertical-align: middle;\n",
       "    }\n",
       "\n",
       "    .dataframe tbody tr th {\n",
       "        vertical-align: top;\n",
       "    }\n",
       "\n",
       "    .dataframe thead th {\n",
       "        text-align: right;\n",
       "    }\n",
       "</style>\n",
       "<table border=\"1\" class=\"dataframe\">\n",
       "  <thead>\n",
       "    <tr style=\"text-align: right;\">\n",
       "      <th></th>\n",
       "      <th>station</th>\n",
       "      <th>counts</th>\n",
       "    </tr>\n",
       "  </thead>\n",
       "  <tbody>\n",
       "    <tr>\n",
       "      <th>0</th>\n",
       "      <td>5th St at E. San Salvador St</td>\n",
       "      <td>1</td>\n",
       "    </tr>\n",
       "    <tr>\n",
       "      <th>1</th>\n",
       "      <td>Sequoia Hospital</td>\n",
       "      <td>14</td>\n",
       "    </tr>\n",
       "    <tr>\n",
       "      <th>2</th>\n",
       "      <td>San Jose Government Center</td>\n",
       "      <td>23</td>\n",
       "    </tr>\n",
       "    <tr>\n",
       "      <th>3</th>\n",
       "      <td>5th S at E. San Salvador St</td>\n",
       "      <td>24</td>\n",
       "    </tr>\n",
       "    <tr>\n",
       "      <th>4</th>\n",
       "      <td>Cyril Magnin St at Ellis St</td>\n",
       "      <td>68</td>\n",
       "    </tr>\n",
       "  </tbody>\n",
       "</table>\n",
       "</div>"
      ],
      "text/plain": [
       "                        station  counts\n",
       "0  5th St at E. San Salvador St  1     \n",
       "1  Sequoia Hospital              14    \n",
       "2  San Jose Government Center    23    \n",
       "3  5th S at E. San Salvador St   24    \n",
       "4  Cyril Magnin St at Ellis St   68    "
      ]
     },
     "execution_count": 27,
     "metadata": {},
     "output_type": "execute_result"
    }
   ],
   "source": [
    "\n",
    "# Query the least \"TO\" stations by name and count\n",
    "! bq query --use_legacy_sql=FALSE --format=csv -n 16000 'SELECT DISTINCT(end_station_name) as station, COUNT(*) as counts FROM `bigquery-public-data.san_francisco.bikeshare_trips` GROUP BY station ORDER BY counts ASC' > least_to_station.csv\n",
    "least_to_end_station = pd.read_csv('least_to_station.csv')\n",
    "least_to_end_station.head()"
   ]
  },
  {
   "cell_type": "code",
   "execution_count": 28,
   "metadata": {},
   "outputs": [
    {
     "name": "stdout",
     "output_type": "stream",
     "text": [
      "\r",
      "Waiting on bqjob_r479af3f0920252e5_0000016d984b7c78_1 ... (0s) Current status: DONE   "
     ]
    },
    {
     "data": {
      "text/html": [
       "<div>\n",
       "<style scoped>\n",
       "    .dataframe tbody tr th:only-of-type {\n",
       "        vertical-align: middle;\n",
       "    }\n",
       "\n",
       "    .dataframe tbody tr th {\n",
       "        vertical-align: top;\n",
       "    }\n",
       "\n",
       "    .dataframe thead th {\n",
       "        text-align: right;\n",
       "    }\n",
       "</style>\n",
       "<table border=\"1\" class=\"dataframe\">\n",
       "  <thead>\n",
       "    <tr style=\"text-align: right;\">\n",
       "      <th></th>\n",
       "      <th>station</th>\n",
       "      <th>counts</th>\n",
       "    </tr>\n",
       "  </thead>\n",
       "  <tbody>\n",
       "    <tr>\n",
       "      <th>0</th>\n",
       "      <td>5th St at E. San Salvador St</td>\n",
       "      <td>1</td>\n",
       "    </tr>\n",
       "    <tr>\n",
       "      <th>1</th>\n",
       "      <td>Sequoia Hospital</td>\n",
       "      <td>15</td>\n",
       "    </tr>\n",
       "    <tr>\n",
       "      <th>2</th>\n",
       "      <td>5th S at E. San Salvador St</td>\n",
       "      <td>19</td>\n",
       "    </tr>\n",
       "    <tr>\n",
       "      <th>3</th>\n",
       "      <td>San Jose Government Center</td>\n",
       "      <td>23</td>\n",
       "    </tr>\n",
       "    <tr>\n",
       "      <th>4</th>\n",
       "      <td>Middlefield Light Rail Station</td>\n",
       "      <td>66</td>\n",
       "    </tr>\n",
       "  </tbody>\n",
       "</table>\n",
       "</div>"
      ],
      "text/plain": [
       "                          station  counts\n",
       "0  5th St at E. San Salvador St    1     \n",
       "1  Sequoia Hospital                15    \n",
       "2  5th S at E. San Salvador St     19    \n",
       "3  San Jose Government Center      23    \n",
       "4  Middlefield Light Rail Station  66    "
      ]
     },
     "execution_count": 28,
     "metadata": {},
     "output_type": "execute_result"
    }
   ],
   "source": [
    "# Query the least \"FROM\" stations by name and count\n",
    "! bq query --use_legacy_sql=FALSE --format=csv -n 16000 'SELECT DISTINCT(start_station_name) as station, COUNT(*) as counts FROM `bigquery-public-data.san_francisco.bikeshare_trips` GROUP BY station ORDER BY counts ASC' > least_from_station.csv\n",
    "least_from_station = pd.read_csv('least_from_station.csv')\n",
    "least_from_station.head()\n"
   ]
  },
  {
   "cell_type": "code",
   "execution_count": 26,
   "metadata": {},
   "outputs": [
    {
     "data": {
      "text/html": [
       "<div>\n",
       "<style scoped>\n",
       "    .dataframe tbody tr th:only-of-type {\n",
       "        vertical-align: middle;\n",
       "    }\n",
       "\n",
       "    .dataframe tbody tr th {\n",
       "        vertical-align: top;\n",
       "    }\n",
       "\n",
       "    .dataframe thead th {\n",
       "        text-align: right;\n",
       "    }\n",
       "</style>\n",
       "<table border=\"1\" class=\"dataframe\">\n",
       "  <thead>\n",
       "    <tr style=\"text-align: right;\">\n",
       "      <th></th>\n",
       "      <th>station</th>\n",
       "      <th>FROM</th>\n",
       "      <th>TO</th>\n",
       "      <th>dockcount</th>\n",
       "    </tr>\n",
       "  </thead>\n",
       "  <tbody>\n",
       "    <tr>\n",
       "      <th>4</th>\n",
       "      <td>Middlefield Light Rail Station</td>\n",
       "      <td>66</td>\n",
       "      <td>93</td>\n",
       "      <td>15.0</td>\n",
       "    </tr>\n",
       "    <tr>\n",
       "      <th>6</th>\n",
       "      <td>Cyril Magnin St at Ellis St</td>\n",
       "      <td>69</td>\n",
       "      <td>68</td>\n",
       "      <td>35.0</td>\n",
       "    </tr>\n",
       "    <tr>\n",
       "      <th>10</th>\n",
       "      <td>5th St at Folsom St</td>\n",
       "      <td>173</td>\n",
       "      <td>151</td>\n",
       "      <td>31.0</td>\n",
       "    </tr>\n",
       "    <tr>\n",
       "      <th>11</th>\n",
       "      <td>Franklin at Maple</td>\n",
       "      <td>226</td>\n",
       "      <td>264</td>\n",
       "      <td>15.0</td>\n",
       "    </tr>\n",
       "    <tr>\n",
       "      <th>12</th>\n",
       "      <td>Redwood City Public Library</td>\n",
       "      <td>272</td>\n",
       "      <td>344</td>\n",
       "      <td>15.0</td>\n",
       "    </tr>\n",
       "  </tbody>\n",
       "</table>\n",
       "</div>"
      ],
      "text/plain": [
       "                           station  FROM   TO  dockcount\n",
       "4   Middlefield Light Rail Station  66    93   15.0     \n",
       "6   Cyril Magnin St at Ellis St     69    68   35.0     \n",
       "10  5th St at Folsom St             173   151  31.0     \n",
       "11  Franklin at Maple               226   264  15.0     \n",
       "12  Redwood City Public Library     272   344  15.0     "
      ]
     },
     "execution_count": 26,
     "metadata": {},
     "output_type": "execute_result"
    }
   ],
   "source": [
    "# Combine start and end stations to see if there are stations that systematically get less visitors\n",
    "merged_rank = least_to_start_station.merge(least_to_end_station, on='station', how='left')\n",
    "merged_rank = merged_rank.merge(station_names, on='station', how='left')\n",
    "merged_rank.rename(columns={'counts_x':'FROM'}, inplace=True)\n",
    "merged_rank.rename(columns={'counts_y':'TO'}, inplace=True)\n",
    "\n",
    "# Note how some of the stations have a NAN dockcount\n",
    "# This means they are no longer in operation, even though they used to be\n",
    "# We will now drop them\n",
    "merged_rank = merged_rank.dropna()\n",
    "merged_rank.head(5)\n",
    "\n"
   ]
  },
  {
   "cell_type": "markdown",
   "metadata": {},
   "source": [
    "We know that the stations above have the least amount of bikes going to and from these stations. **Thus, if a bike either starts or ends at these 5 locations above, the trips can be half off for customers. Moreover if a subscriber takes this route, they can be entered into a rewards program that would allow them to work towards discounts.**\n",
    "\n",
    "This logic can be extended to any amount of stations in the bottom half, or those that have higher dockcounts (dockcounts DF is above)"
   ]
  },
  {
   "cell_type": "markdown",
   "metadata": {},
   "source": [
    "# Infrastructure Reccomendation: How can you reallocate stations? (Bonus)"
   ]
  },
  {
   "cell_type": "markdown",
   "metadata": {},
   "source": [
    "Note this section does not directly answer the question of offering deals throughout the day. However, this solution allows for something more fundamental to the company. One can imagine a scenario where they want to take a trip; however they cannot because there are simply no bikes available at the station, or docks open when they want to park. Thus I critque the question itsself: **Can you offer a deal without having your infrastructure in place correctly?**"
   ]
  },
  {
   "cell_type": "code",
   "execution_count": 16,
   "metadata": {},
   "outputs": [
    {
     "name": "stdout",
     "output_type": "stream",
     "text": [
      "1306.0\n",
      "736.0551301684533\n"
     ]
    },
    {
     "data": {
      "text/html": [
       "<div>\n",
       "<style scoped>\n",
       "    .dataframe tbody tr th:only-of-type {\n",
       "        vertical-align: middle;\n",
       "    }\n",
       "\n",
       "    .dataframe tbody tr th {\n",
       "        vertical-align: top;\n",
       "    }\n",
       "\n",
       "    .dataframe thead th {\n",
       "        text-align: right;\n",
       "    }\n",
       "</style>\n",
       "<table border=\"1\" class=\"dataframe\">\n",
       "  <thead>\n",
       "    <tr style=\"text-align: right;\">\n",
       "      <th></th>\n",
       "      <th>station</th>\n",
       "      <th>counts_x</th>\n",
       "      <th>counts_y</th>\n",
       "      <th>dockcount</th>\n",
       "      <th>average_count</th>\n",
       "      <th>proposed_dock_count</th>\n",
       "      <th>reallocation</th>\n",
       "    </tr>\n",
       "  </thead>\n",
       "  <tbody>\n",
       "    <tr>\n",
       "      <th>6</th>\n",
       "      <td>Cyril Magnin St at Ellis St</td>\n",
       "      <td>69</td>\n",
       "      <td>68</td>\n",
       "      <td>35.0</td>\n",
       "      <td>68.5</td>\n",
       "      <td>0.0</td>\n",
       "      <td>-35.0</td>\n",
       "    </tr>\n",
       "    <tr>\n",
       "      <th>10</th>\n",
       "      <td>5th St at Folsom St</td>\n",
       "      <td>173</td>\n",
       "      <td>151</td>\n",
       "      <td>31.0</td>\n",
       "      <td>162.0</td>\n",
       "      <td>0.0</td>\n",
       "      <td>-31.0</td>\n",
       "    </tr>\n",
       "    <tr>\n",
       "      <th>32</th>\n",
       "      <td>Redwood City Caltrain Station</td>\n",
       "      <td>2249</td>\n",
       "      <td>1870</td>\n",
       "      <td>25.0</td>\n",
       "      <td>2059.5</td>\n",
       "      <td>3.0</td>\n",
       "      <td>-22.0</td>\n",
       "    </tr>\n",
       "    <tr>\n",
       "      <th>36</th>\n",
       "      <td>San Antonio Caltrain Station</td>\n",
       "      <td>2601</td>\n",
       "      <td>2621</td>\n",
       "      <td>23.0</td>\n",
       "      <td>2611.0</td>\n",
       "      <td>4.0</td>\n",
       "      <td>-19.0</td>\n",
       "    </tr>\n",
       "    <tr>\n",
       "      <th>43</th>\n",
       "      <td>Palo Alto Caltrain Station</td>\n",
       "      <td>3281</td>\n",
       "      <td>2847</td>\n",
       "      <td>23.0</td>\n",
       "      <td>3064.0</td>\n",
       "      <td>4.0</td>\n",
       "      <td>-19.0</td>\n",
       "    </tr>\n",
       "  </tbody>\n",
       "</table>\n",
       "</div>"
      ],
      "text/plain": [
       "                          station  counts_x  counts_y  dockcount  \\\n",
       "6   Cyril Magnin St at Ellis St    69        68        35.0        \n",
       "10  5th St at Folsom St            173       151       31.0        \n",
       "32  Redwood City Caltrain Station  2249      1870      25.0        \n",
       "36  San Antonio Caltrain Station   2601      2621      23.0        \n",
       "43  Palo Alto Caltrain Station     3281      2847      23.0        \n",
       "\n",
       "    average_count  proposed_dock_count  reallocation  \n",
       "6   68.5           0.0                 -35.0          \n",
       "10  162.0          0.0                 -31.0          \n",
       "32  2059.5         3.0                 -22.0          \n",
       "36  2611.0         4.0                 -19.0          \n",
       "43  3064.0         4.0                 -19.0          "
      ]
     },
     "execution_count": 16,
     "metadata": {},
     "output_type": "execute_result"
    }
   ],
   "source": [
    "# Drop NA, get an average count, see how many trips/per dock\n",
    "merged_rank.head(10)\n",
    "print(merged_rank['dockcount'].sum())\n",
    "merged_rank['average_count'] = (merged_rank['counts_x']+merged_rank['counts_y'])/2\n",
    "\n",
    "# We know the average trips for 1 dock should be 736 if we reallocated fairly\n",
    "avg_dock_count = merged_rank['average_count'].sum()/merged_rank['dockcount'].sum()\n",
    "print(avg_dock_count)\n",
    "\n",
    "# Understand how many docks each station SHOULD have, and sort by how off they are\n",
    "merged_rank['proposed_dock_count'] = round(merged_rank['counts_x']/avg_dock_count)\n",
    "merged_rank['reallocation'] = merged_rank['proposed_dock_count'] - merged_rank['dockcount']\n",
    "merged_rank = merged_rank.sort_values(by=[\"reallocation\"], ascending=True)\n",
    "merged_rank.head()"
   ]
  },
  {
   "cell_type": "code",
   "execution_count": 17,
   "metadata": {},
   "outputs": [
    {
     "data": {
      "text/plain": [
       "<matplotlib.axes._subplots.AxesSubplot at 0x7ff787593e10>"
      ]
     },
     "execution_count": 17,
     "metadata": {},
     "output_type": "execute_result"
    },
    {
     "data": {
      "image/png": "[encoded data removed]",
      "text/plain": [
       "<Figure size 432x288 with 1 Axes>"
      ]
     },
     "metadata": {
      "needs_background": "light"
     },
     "output_type": "display_data"
    }
   ],
   "source": [
    "sns.scatterplot('dockcount', 'average_count', data=merged_rank)"
   ]
  },
  {
   "cell_type": "markdown",
   "metadata": {},
   "source": [
    "Here we see a scatter plot of the average amount of trips to/from a station, vs the amount of docks. Ideally, we should have a positive linear relationship between the two values. However, this is clearly not the case. The next part shows us how we should reallocate the docks. "
   ]
  },
  {
   "cell_type": "code",
   "execution_count": 18,
   "metadata": {
    "scrolled": true
   },
   "outputs": [
    {
     "data": {
      "image/png": "[encoded data removed]",
      "text/plain": [
       "<Figure size 1008x1008 with 1 Axes>"
      ]
     },
     "metadata": {
      "needs_background": "light"
     },
     "output_type": "display_data"
    }
   ],
   "source": [
    "ax = merged_rank.plot(kind='bar',x='station',y='reallocation', figsize=[14, 14])\n",
    "ax.set_xlabel(\"Station Name\",fontsize=12)\n",
    "ax.set_ylabel(\"Reallocation of Bikes\",fontsize=12)\n",
    "plt.show()"
   ]
  },
  {
   "cell_type": "markdown",
   "metadata": {},
   "source": [
    "We can see how the bikes stations should be reallocated. There was no information given about additional funding for new stations. Thus I assume the only way to get bikes is to reallocate them. In order to maximize trips, stations that should have the most bikes taken away are: Cyril Magnin St at Ellis St, 5th St at Folsom St, and Redwood City Caltrain Station. On the other hand, Harry Bridges Plaza (Ferry Building), San Francisco Caltrain 2 (330 Townsennd), and San Francisco Caltrain (Townsend at 4th)\tneed the most additions."
   ]
  }
 ],
 "metadata": {
  "kernelspec": {
   "display_name": "Python 3",
   "language": "python",
   "name": "python3"
  },
  "language_info": {
   "codemirror_mode": {
    "name": "ipython",
    "version": 3
   },
   "file_extension": ".py",
   "mimetype": "text/x-python",
   "name": "python",
   "nbconvert_exporter": "python",
   "pygments_lexer": "ipython3",
   "version": "3.6.8"
  }
 },
 "nbformat": 4,
 "nbformat_minor": 2
}
